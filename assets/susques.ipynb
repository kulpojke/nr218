{
 "cells": [
  {
   "cell_type": "code",
   "execution_count": null,
   "id": "0825f9af",
   "metadata": {},
   "outputs": [
    {
     "name": "stderr",
     "output_type": "stream",
     "text": [
      "/home/michael/miniforge3/envs/ee/lib/python3.13/site-packages/geemap/conversion.py:23: UserWarning: pkg_resources is deprecated as an API. See https://setuptools.pypa.io/en/latest/pkg_resources.html. The pkg_resources package is slated for removal as early as 2025-11-30. Refrain from using this package or pin to Setuptools<81.\n",
      "  import pkg_resources\n"
     ]
    }
   ],
   "source": [
    "# standard modules\n",
    "import io\n",
    "import json\n",
    "import os\n",
    "from pathlib import Path\n",
    "import time\n",
    "\n",
    "# specialized modules\n",
    "import ee\n",
    "import geemap\n",
    "import geopandas as gpd\n",
    "from pathlib import Path\n",
    "from tqdm import tqdm\n",
    "\n",
    "# initialize the Earth Engine module.\n",
    "ee.Initialize(project='trinity-438000')\n",
    "\n",
    "\n",
    "# read AOI\n",
    "dot_slash = Path().cwd()\n",
    "aoi_path = dot_slash.parent / 'untracked_qgis' / 'susques_aoi.geojson'\n",
    "\n",
    "\n"
   ]
  },
  {
   "cell_type": "code",
   "execution_count": 2,
   "id": "eb2c6b27",
   "metadata": {},
   "outputs": [
    {
     "data": {
      "text/html": [
       "\n",
       "            <style>\n",
       "                .geemap-dark {\n",
       "                    --jp-widgets-color: white;\n",
       "                    --jp-widgets-label-color: white;\n",
       "                    --jp-ui-font-color1: white;\n",
       "                    --jp-layout-color2: #454545;\n",
       "                    background-color: #383838;\n",
       "                }\n",
       "\n",
       "                .geemap-dark .jupyter-button {\n",
       "                    --jp-layout-color3: #383838;\n",
       "                }\n",
       "\n",
       "                .geemap-colab {\n",
       "                    background-color: var(--colab-primary-surface-color, white);\n",
       "                }\n",
       "\n",
       "                .geemap-colab .jupyter-button {\n",
       "                    --jp-layout-color3: var(--colab-primary-surface-color, white);\n",
       "                }\n",
       "            </style>\n",
       "            "
      ],
      "text/plain": [
       "<IPython.core.display.HTML object>"
      ]
     },
     "metadata": {},
     "output_type": "display_data"
    },
    {
     "data": {
      "application/vnd.jupyter.widget-view+json": {
       "model_id": "1444cd1a72e14b0895cef8799cc87298",
       "version_major": 2,
       "version_minor": 0
      },
      "text/plain": [
       "Map(center=[-23.691800116479786, -66.72347427169585], controls=(WidgetControl(options=['position', 'transparen…"
      ]
     },
     "execution_count": 2,
     "metadata": {},
     "output_type": "execute_result"
    }
   ],
   "source": [
    "aoi = gpd.read_file(aoi_path).to_crs(4326)\n",
    "gee_json = json.loads(aoi[['geometry']].to_json())\n",
    "gee_aoi = geemap.geojson_to_ee(gee_json)\n",
    "\n",
    "# inspect the GeoJSON as an EEObject through geemap.\n",
    "test_map = geemap.Map()\n",
    "test_map.centerObject(gee_aoi, 9) # Centering on the AOI instead of an undefined 'region'\n",
    "test_map.addLayer(gee_aoi, {}, 'AOI')\n",
    "\n",
    "test_map\n"
   ]
  },
  {
   "cell_type": "code",
   "execution_count": 3,
   "id": "43b8cf43",
   "metadata": {},
   "outputs": [
    {
     "data": {
      "text/html": [
       "\n",
       "            <style>\n",
       "                .geemap-dark {\n",
       "                    --jp-widgets-color: white;\n",
       "                    --jp-widgets-label-color: white;\n",
       "                    --jp-ui-font-color1: white;\n",
       "                    --jp-layout-color2: #454545;\n",
       "                    background-color: #383838;\n",
       "                }\n",
       "\n",
       "                .geemap-dark .jupyter-button {\n",
       "                    --jp-layout-color3: #383838;\n",
       "                }\n",
       "\n",
       "                .geemap-colab {\n",
       "                    background-color: var(--colab-primary-surface-color, white);\n",
       "                }\n",
       "\n",
       "                .geemap-colab .jupyter-button {\n",
       "                    --jp-layout-color3: var(--colab-primary-surface-color, white);\n",
       "                }\n",
       "            </style>\n",
       "            "
      ],
      "text/plain": [
       "<IPython.core.display.HTML object>"
      ]
     },
     "metadata": {},
     "output_type": "display_data"
    },
    {
     "data": {
      "text/plain": [
       "[[-66.91678741805556, -24.156261185147972],\n",
       " [-66.91678741805556, -23.228358082622538],\n",
       " [-66.53016112533663, -23.228358082622538],\n",
       " [-66.53016112533663, -24.156261185147972],\n",
       " [-66.91678741805556, -24.156261185147972]]"
      ]
     },
     "execution_count": 3,
     "metadata": {},
     "output_type": "execute_result"
    }
   ],
   "source": [
    "# get extent\n",
    "minx, miny, maxx, maxy = aoi.total_bounds\n",
    "\n",
    "verts = [[\n",
    "[minx, miny],\n",
    "[minx, maxy],\n",
    "[maxx, maxy],\n",
    "[maxx, miny],\n",
    "[minx, miny]\n",
    "]]\n",
    "\n",
    "# make normal float from np.float63\n",
    "verts = [[float(x), float(y)] for x, y in verts[0]]\n",
    "\n",
    "verts"
   ]
  },
  {
   "cell_type": "code",
   "execution_count": 4,
   "id": "a5eb51ae",
   "metadata": {},
   "outputs": [
    {
     "data": {
      "text/html": [
       "\n",
       "            <style>\n",
       "                .geemap-dark {\n",
       "                    --jp-widgets-color: white;\n",
       "                    --jp-widgets-label-color: white;\n",
       "                    --jp-ui-font-color1: white;\n",
       "                    --jp-layout-color2: #454545;\n",
       "                    background-color: #383838;\n",
       "                }\n",
       "\n",
       "                .geemap-dark .jupyter-button {\n",
       "                    --jp-layout-color3: #383838;\n",
       "                }\n",
       "\n",
       "                .geemap-colab {\n",
       "                    background-color: var(--colab-primary-surface-color, white);\n",
       "                }\n",
       "\n",
       "                .geemap-colab .jupyter-button {\n",
       "                    --jp-layout-color3: var(--colab-primary-surface-color, white);\n",
       "                }\n",
       "            </style>\n",
       "            "
      ],
      "text/plain": [
       "<IPython.core.display.HTML object>"
      ]
     },
     "metadata": {},
     "output_type": "display_data"
    }
   ],
   "source": [
    "# date range\n",
    "START = ee.Date('2023-01-01')\n",
    "END = ee.Date('2025-11-01')\n",
    "\n",
    "# date and geographic filter\n",
    "col_filter = ee.Filter.And(\n",
    "    ee.Filter.geometry(ee.Geometry.Polygon(verts)),\n",
    "    ee.Filter.date(START, END),\n",
    ")\n",
    "\n",
    "# naip\n",
    "dw_col = ee.ImageCollection('USDA/NAIP/DOQQ').filter(col_filter)\n"
   ]
  },
  {
   "cell_type": "code",
   "execution_count": 5,
   "id": "0e6e238a",
   "metadata": {},
   "outputs": [
    {
     "data": {
      "text/html": [
       "\n",
       "            <style>\n",
       "                .geemap-dark {\n",
       "                    --jp-widgets-color: white;\n",
       "                    --jp-widgets-label-color: white;\n",
       "                    --jp-ui-font-color1: white;\n",
       "                    --jp-layout-color2: #454545;\n",
       "                    background-color: #383838;\n",
       "                }\n",
       "\n",
       "                .geemap-dark .jupyter-button {\n",
       "                    --jp-layout-color3: #383838;\n",
       "                }\n",
       "\n",
       "                .geemap-colab {\n",
       "                    background-color: var(--colab-primary-surface-color, white);\n",
       "                }\n",
       "\n",
       "                .geemap-colab .jupyter-button {\n",
       "                    --jp-layout-color3: var(--colab-primary-surface-color, white);\n",
       "                }\n",
       "            </style>\n",
       "            "
      ],
      "text/plain": [
       "<IPython.core.display.HTML object>"
      ]
     },
     "metadata": {},
     "output_type": "display_data"
    }
   ],
   "source": [
    "# Create a visualization that blends DW class label with probability.\n",
    "# Define list pairs of DW LULC label and color.\n",
    "class_names = [\n",
    "    'water',\n",
    "    'trees',\n",
    "    'grass',\n",
    "    'flooded_vegetation',\n",
    "    'crops',\n",
    "    'shrub_and_scrub',\n",
    "    'built',\n",
    "    'bare',\n",
    "    'snow_and_ice',\n",
    "]\n",
    "\n",
    "class_values = list(range(len(class_names)))\n",
    "\n"
   ]
  },
  {
   "cell_type": "code",
   "execution_count": null,
   "id": "6707eb57",
   "metadata": {},
   "outputs": [
    {
     "data": {
      "text/html": [
       "\n",
       "            <style>\n",
       "                .geemap-dark {\n",
       "                    --jp-widgets-color: white;\n",
       "                    --jp-widgets-label-color: white;\n",
       "                    --jp-ui-font-color1: white;\n",
       "                    --jp-layout-color2: #454545;\n",
       "                    background-color: #383838;\n",
       "                }\n",
       "\n",
       "                .geemap-dark .jupyter-button {\n",
       "                    --jp-layout-color3: #383838;\n",
       "                }\n",
       "\n",
       "                .geemap-colab {\n",
       "                    background-color: var(--colab-primary-surface-color, white);\n",
       "                }\n",
       "\n",
       "                .geemap-colab .jupyter-button {\n",
       "                    --jp-layout-color3: var(--colab-primary-surface-color, white);\n",
       "                }\n",
       "            </style>\n",
       "            "
      ],
      "text/plain": [
       "<IPython.core.display.HTML object>"
      ]
     },
     "metadata": {},
     "output_type": "display_data"
    },
    {
     "name": "stderr",
     "output_type": "stream",
     "text": [
      "100%|██████████| 7/7 [00:05<00:00,  1.20it/s]\n"
     ]
    }
   ],
   "source": [
    "def mask_s2_clouds(image):\n",
    "  '''Masks clouds in a Sentinel-2 image using the QA band.\n",
    "\n",
    "  Args:\n",
    "      image (ee.Image): A Sentinel-2 image.\n",
    "\n",
    "  Returns:\n",
    "      ee.Image: A cloud-masked Sentinel-2 image.\n",
    "  '''\n",
    "  qa = image.select('QA60')\n",
    "\n",
    "  # bits 10 and 11 are clouds and cirrus, respectively.\n",
    "  cloud_bit_mask = 1 << 10\n",
    "  cirrus_bit_mask = 1 << 11\n",
    "\n",
    "  # both flags should be set to zero, indicating clear conditions.\n",
    "  mask = (\n",
    "      qa.bitwiseAnd(cloud_bit_mask)\n",
    "      .eq(0)\n",
    "      .And(qa.bitwiseAnd(cirrus_bit_mask).eq(0))\n",
    "  )\n",
    "\n",
    "  return image.updateMask(mask).divide(10000)\n",
    "\n",
    "\n",
    "tasks = []\n",
    "\n",
    "\n",
    "def add_quality_score(image):\n",
    "    cloud = ee.Number(\n",
    "        ee.Algorithms.If(\n",
    "            ee.Algorithms.IsEqual(image.get('CLOUDY_PIXEL_PERCENTAGE'), None),\n",
    "            100,\n",
    "            image.get('CLOUDY_PIXEL_PERCENTAGE')\n",
    "        )\n",
    "    )\n",
    "    return image.set('quality_score', cloud.multiply(100))\n",
    "\n",
    "\n",
    "for year in tqdm(range(2025, 2026)):\n",
    "\n",
    "    start = ee.Date(f'{year}-04-01')\n",
    "    end = start.advance(23, 'month')\n",
    "\n",
    "    date_filter = ee.Filter.And(\n",
    "        ee.Filter.geometry(ee.Geometry.Polygon(verts)),\n",
    "        ee.Filter.date(start, end)\n",
    "    )\n",
    "\n",
    "    s2_median = (\n",
    "        ee.ImageCollection('COPERNICUS/S2_SR_HARMONIZED')\n",
    "        .filter(date_filter)\n",
    "        .filter(ee.Filter.lt('CLOUDY_PIXEL_PERCENTAGE', 35))\n",
    "        .map(mask_s2_clouds)\n",
    "        .median()\n",
    "    )\n",
    "\n",
    "    s2_max = (\n",
    "        ee.ImageCollection('COPERNICUS/S2_SR_HARMONIZED')\n",
    "        .filter(date_filter)\n",
    "        .filter(ee.Filter.lt('CLOUDY_PIXEL_PERCENTAGE', 35))\n",
    "        .map(mask_s2_clouds)\n",
    "        .max()\n",
    "    )\n",
    "\n",
    "    export_params = {\n",
    "        'image': s2_max.clip(gee_aoi),\n",
    "        'description': f's2_susques_max_{year}',\n",
    "        'folder': 'nr218',\n",
    "        'fileNamePrefix': f's2_susques_max_{year}',\n",
    "        'scale': 10,\n",
    "        'region': gee_aoi.geometry(),\n",
    "        'fileFormat': 'GeoTIFF',\n",
    "        'maxPixels': 1e12\n",
    "    }\n",
    "    task = ee.batch.Export.image.toDrive(**export_params)\n",
    "    task.start()\n",
    "    tasks.append(task)\n",
    "\n",
    "    export_params = {\n",
    "        'image': s2_median.clip(gee_aoi),\n",
    "        'description': f's2_susques_median_{year}',\n",
    "        'folder': 'nr218',\n",
    "        'fileNamePrefix': f's2_susques_median_{year}',\n",
    "        'scale': 10,\n",
    "        'region': gee_aoi.geometry(),\n",
    "        'fileFormat': 'GeoTIFF',\n",
    "        'maxPixels': 1e12\n",
    "    }\n",
    "    task = ee.batch.Export.image.toDrive(**export_params)\n",
    "    task.start()\n",
    "    tasks.append(task)\n"
   ]
  },
  {
   "cell_type": "code",
   "execution_count": 21,
   "id": "6507d9ee",
   "metadata": {},
   "outputs": [
    {
     "data": {
      "text/html": [
       "\n",
       "            <style>\n",
       "                .geemap-dark {\n",
       "                    --jp-widgets-color: white;\n",
       "                    --jp-widgets-label-color: white;\n",
       "                    --jp-ui-font-color1: white;\n",
       "                    --jp-layout-color2: #454545;\n",
       "                    background-color: #383838;\n",
       "                }\n",
       "\n",
       "                .geemap-dark .jupyter-button {\n",
       "                    --jp-layout-color3: #383838;\n",
       "                }\n",
       "\n",
       "                .geemap-colab {\n",
       "                    background-color: var(--colab-primary-surface-color, white);\n",
       "                }\n",
       "\n",
       "                .geemap-colab .jupyter-button {\n",
       "                    --jp-layout-color3: var(--colab-primary-surface-color, white);\n",
       "                }\n",
       "            </style>\n",
       "            "
      ],
      "text/plain": [
       "<IPython.core.display.HTML object>"
      ]
     },
     "metadata": {},
     "output_type": "display_data"
    },
    {
     "name": "stdout",
     "output_type": "stream",
     "text": [
      "s2_susques_2019: RUNNING \n",
      "s2_susques_2020: RUNNING \n",
      "s2_susques_2021: READY \n",
      "s2_susques_2022: READY \n",
      "s2_susques_2023: READY \n",
      "s2_susques_2024: READY \n",
      "s2_susques_2025: READY \n"
     ]
    }
   ],
   "source": [
    "for task in tasks:\n",
    "    info = task.status()\n",
    "    print(f\"{info['description']}: {info['state']}\", info.get('progress', ''))\n"
   ]
  },
  {
   "cell_type": "code",
   "execution_count": null,
   "id": "7d13666e",
   "metadata": {},
   "outputs": [],
   "source": []
  },
  {
   "cell_type": "code",
   "execution_count": null,
   "id": "303c224a",
   "metadata": {},
   "outputs": [],
   "source": []
  }
 ],
 "metadata": {
  "kernelspec": {
   "display_name": "ee",
   "language": "python",
   "name": "python3"
  },
  "language_info": {
   "codemirror_mode": {
    "name": "ipython",
    "version": 3
   },
   "file_extension": ".py",
   "mimetype": "text/x-python",
   "name": "python",
   "nbconvert_exporter": "python",
   "pygments_lexer": "ipython3",
   "version": "3.13.5"
  }
 },
 "nbformat": 4,
 "nbformat_minor": 5
}
