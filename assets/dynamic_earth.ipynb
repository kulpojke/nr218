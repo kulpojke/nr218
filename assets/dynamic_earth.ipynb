{
 "cells": [
  {
   "cell_type": "code",
   "execution_count": 2,
   "id": "0825f9af",
   "metadata": {},
   "outputs": [
    {
     "data": {
      "text/html": [
       "\n",
       "            <style>\n",
       "                .geemap-dark {\n",
       "                    --jp-widgets-color: white;\n",
       "                    --jp-widgets-label-color: white;\n",
       "                    --jp-ui-font-color1: white;\n",
       "                    --jp-layout-color2: #454545;\n",
       "                    background-color: #383838;\n",
       "                }\n",
       "\n",
       "                .geemap-dark .jupyter-button {\n",
       "                    --jp-layout-color3: #383838;\n",
       "                }\n",
       "\n",
       "                .geemap-colab {\n",
       "                    background-color: var(--colab-primary-surface-color, white);\n",
       "                }\n",
       "\n",
       "                .geemap-colab .jupyter-button {\n",
       "                    --jp-layout-color3: var(--colab-primary-surface-color, white);\n",
       "                }\n",
       "            </style>\n",
       "            "
      ],
      "text/plain": [
       "<IPython.core.display.HTML object>"
      ]
     },
     "metadata": {},
     "output_type": "display_data"
    }
   ],
   "source": [
    "# standard modules\n",
    "import io\n",
    "import json\n",
    "import os\n",
    "from pathlib import Path\n",
    "import time\n",
    "\n",
    "# specialized modules\n",
    "import ee\n",
    "import geemap\n",
    "import geopandas as gpd\n",
    "from pathlib import Path\n",
    "from tqdm import tqdm\n",
    "\n",
    "# initialize the Earth Engine module.\n",
    "ee.Initialize(project='trinity-438000')\n",
    "\n",
    "\n",
    "# read AOI\n",
    "dot_slash = Path().cwd()\n",
    "aoi_path = dot_slash.parent / 'untracked_qgis' / 'aoi.geojson'\n",
    "\n",
    "\n"
   ]
  },
  {
   "cell_type": "code",
   "execution_count": 3,
   "id": "eb2c6b27",
   "metadata": {},
   "outputs": [
    {
     "data": {
      "text/html": [
       "\n",
       "            <style>\n",
       "                .geemap-dark {\n",
       "                    --jp-widgets-color: white;\n",
       "                    --jp-widgets-label-color: white;\n",
       "                    --jp-ui-font-color1: white;\n",
       "                    --jp-layout-color2: #454545;\n",
       "                    background-color: #383838;\n",
       "                }\n",
       "\n",
       "                .geemap-dark .jupyter-button {\n",
       "                    --jp-layout-color3: #383838;\n",
       "                }\n",
       "\n",
       "                .geemap-colab {\n",
       "                    background-color: var(--colab-primary-surface-color, white);\n",
       "                }\n",
       "\n",
       "                .geemap-colab .jupyter-button {\n",
       "                    --jp-layout-color3: var(--colab-primary-surface-color, white);\n",
       "                }\n",
       "            </style>\n",
       "            "
      ],
      "text/plain": [
       "<IPython.core.display.HTML object>"
      ]
     },
     "metadata": {},
     "output_type": "display_data"
    },
    {
     "data": {
      "application/vnd.jupyter.widget-view+json": {
       "model_id": "0d07499f6cda437fa6d3b88ed8816f14",
       "version_major": 2,
       "version_minor": 0
      },
      "text/plain": [
       "Map(center=[41.15499963539352, -122.81974142942383], controls=(WidgetControl(options=['position', 'transparent…"
      ]
     },
     "execution_count": 3,
     "metadata": {},
     "output_type": "execute_result"
    }
   ],
   "source": [
    "aoi = gpd.read_file(aoi_path).to_crs(4326)\n",
    "gee_json = json.loads(aoi[['geometry']].to_json())\n",
    "gee_aoi = geemap.geojson_to_ee(gee_json)\n",
    "\n",
    "# inspect the GeoJSON as an EEObject through geemap.\n",
    "test_map = geemap.Map()\n",
    "test_map.centerObject(gee_aoi, 9) # Centering on the AOI instead of an undefined 'region'\n",
    "test_map.addLayer(gee_aoi, {}, 'AOI')\n",
    "\n",
    "test_map\n"
   ]
  },
  {
   "cell_type": "code",
   "execution_count": 4,
   "id": "43b8cf43",
   "metadata": {},
   "outputs": [
    {
     "data": {
      "text/html": [
       "\n",
       "            <style>\n",
       "                .geemap-dark {\n",
       "                    --jp-widgets-color: white;\n",
       "                    --jp-widgets-label-color: white;\n",
       "                    --jp-ui-font-color1: white;\n",
       "                    --jp-layout-color2: #454545;\n",
       "                    background-color: #383838;\n",
       "                }\n",
       "\n",
       "                .geemap-dark .jupyter-button {\n",
       "                    --jp-layout-color3: #383838;\n",
       "                }\n",
       "\n",
       "                .geemap-colab {\n",
       "                    background-color: var(--colab-primary-surface-color, white);\n",
       "                }\n",
       "\n",
       "                .geemap-colab .jupyter-button {\n",
       "                    --jp-layout-color3: var(--colab-primary-surface-color, white);\n",
       "                }\n",
       "            </style>\n",
       "            "
      ],
      "text/plain": [
       "<IPython.core.display.HTML object>"
      ]
     },
     "metadata": {},
     "output_type": "display_data"
    },
    {
     "data": {
      "text/plain": [
       "[[-122.86506354915134, 41.11218034751449],\n",
       " [-122.86506354915134, 41.19781334143016],\n",
       " [-122.77436041752618, 41.19781334143016],\n",
       " [-122.77436041752618, 41.11218034751449],\n",
       " [-122.86506354915134, 41.11218034751449]]"
      ]
     },
     "execution_count": 4,
     "metadata": {},
     "output_type": "execute_result"
    }
   ],
   "source": [
    "# get extent\n",
    "minx, miny, maxx, maxy = aoi.total_bounds\n",
    "\n",
    "verts = [[\n",
    "[minx, miny],\n",
    "[minx, maxy],\n",
    "[maxx, maxy],\n",
    "[maxx, miny],\n",
    "[minx, miny]\n",
    "]]\n",
    "\n",
    "# make normal float from np.float63\n",
    "verts = [[float(x), float(y)] for x, y in verts[0]]\n",
    "\n",
    "verts"
   ]
  },
  {
   "cell_type": "code",
   "execution_count": 5,
   "id": "a5eb51ae",
   "metadata": {},
   "outputs": [
    {
     "data": {
      "text/html": [
       "\n",
       "            <style>\n",
       "                .geemap-dark {\n",
       "                    --jp-widgets-color: white;\n",
       "                    --jp-widgets-label-color: white;\n",
       "                    --jp-ui-font-color1: white;\n",
       "                    --jp-layout-color2: #454545;\n",
       "                    background-color: #383838;\n",
       "                }\n",
       "\n",
       "                .geemap-dark .jupyter-button {\n",
       "                    --jp-layout-color3: #383838;\n",
       "                }\n",
       "\n",
       "                .geemap-colab {\n",
       "                    background-color: var(--colab-primary-surface-color, white);\n",
       "                }\n",
       "\n",
       "                .geemap-colab .jupyter-button {\n",
       "                    --jp-layout-color3: var(--colab-primary-surface-color, white);\n",
       "                }\n",
       "            </style>\n",
       "            "
      ],
      "text/plain": [
       "<IPython.core.display.HTML object>"
      ]
     },
     "metadata": {},
     "output_type": "display_data"
    }
   ],
   "source": [
    "# date range\n",
    "START = ee.Date('2015-01-01')\n",
    "END = ee.Date('2025-08-01')\n",
    "\n",
    "# date and geographic filter\n",
    "col_filter = ee.Filter.And(\n",
    "    ee.Filter.geometry(ee.Geometry.Polygon(verts)),\n",
    "    ee.Filter.date(START, END),\n",
    ")\n",
    "\n",
    "# dynamic earth\n",
    "dw_col = ee.ImageCollection('GOOGLE/DYNAMICWORLD/V1').filter(col_filter)\n"
   ]
  },
  {
   "cell_type": "code",
   "execution_count": 14,
   "id": "0e6e238a",
   "metadata": {},
   "outputs": [
    {
     "data": {
      "text/html": [
       "\n",
       "            <style>\n",
       "                .geemap-dark {\n",
       "                    --jp-widgets-color: white;\n",
       "                    --jp-widgets-label-color: white;\n",
       "                    --jp-ui-font-color1: white;\n",
       "                    --jp-layout-color2: #454545;\n",
       "                    background-color: #383838;\n",
       "                }\n",
       "\n",
       "                .geemap-dark .jupyter-button {\n",
       "                    --jp-layout-color3: #383838;\n",
       "                }\n",
       "\n",
       "                .geemap-colab {\n",
       "                    background-color: var(--colab-primary-surface-color, white);\n",
       "                }\n",
       "\n",
       "                .geemap-colab .jupyter-button {\n",
       "                    --jp-layout-color3: var(--colab-primary-surface-color, white);\n",
       "                }\n",
       "            </style>\n",
       "            "
      ],
      "text/plain": [
       "<IPython.core.display.HTML object>"
      ]
     },
     "metadata": {},
     "output_type": "display_data"
    }
   ],
   "source": [
    "# Create a visualization that blends DW class label with probability.\n",
    "# Define list pairs of DW LULC label and color.\n",
    "class_names = [\n",
    "    'water',\n",
    "    'trees',\n",
    "    'grass',\n",
    "    'flooded_vegetation',\n",
    "    'crops',\n",
    "    'shrub_and_scrub',\n",
    "    'built',\n",
    "    'bare',\n",
    "    'snow_and_ice',\n",
    "]\n",
    "\n",
    "class_values = list(range(len(class_names)))\n",
    "\n"
   ]
  },
  {
   "cell_type": "code",
   "execution_count": null,
   "id": "6707eb57",
   "metadata": {},
   "outputs": [
    {
     "data": {
      "text/html": [
       "\n",
       "            <style>\n",
       "                .geemap-dark {\n",
       "                    --jp-widgets-color: white;\n",
       "                    --jp-widgets-label-color: white;\n",
       "                    --jp-ui-font-color1: white;\n",
       "                    --jp-layout-color2: #454545;\n",
       "                    background-color: #383838;\n",
       "                }\n",
       "\n",
       "                .geemap-dark .jupyter-button {\n",
       "                    --jp-layout-color3: #383838;\n",
       "                }\n",
       "\n",
       "                .geemap-colab {\n",
       "                    background-color: var(--colab-primary-surface-color, white);\n",
       "                }\n",
       "\n",
       "                .geemap-colab .jupyter-button {\n",
       "                    --jp-layout-color3: var(--colab-primary-surface-color, white);\n",
       "                }\n",
       "            </style>\n",
       "            "
      ],
      "text/plain": [
       "<IPython.core.display.HTML object>"
      ]
     },
     "metadata": {},
     "output_type": "display_data"
    },
    {
     "name": "stderr",
     "output_type": "stream",
     "text": [
      "100%|██████████| 5/5 [00:00<00:00, 1633.42it/s]"
     ]
    },
    {
     "name": "stdout",
     "output_type": "stream",
     "text": [
      "2013: no images, skipping\n",
      "2014: no images, skipping\n",
      "2015: no images, skipping\n",
      "2016: no images, skipping\n",
      "2017: no images, skipping\n"
     ]
    },
    {
     "name": "stderr",
     "output_type": "stream",
     "text": [
      "\n"
     ]
    }
   ],
   "source": [
    "tasks = []\n",
    "for year in tqdm(range(2013, 2026)):\n",
    "    # filter for June and AOI\n",
    "    start = ee.Date(f'{year}-06-01')\n",
    "    end = start.advance(1, 'month')\n",
    "    lil_filter = ee.Filter.And(\n",
    "    ee.Filter.geometry(ee.Geometry.Polygon(verts)),\n",
    "    ee.Filter.date(start, end),\n",
    "    )\n",
    "\n",
    "    # s2 median composite\n",
    "    dw_col = ee.ImageCollection('GOOGLE/DYNAMICWORLD/V1').filter(lil_filter)\n",
    "    \n",
    "    # if there are no images skip\n",
    "    if dw_col.size().eq(0):\n",
    "      print(f'{year}: no images, skipping')\n",
    "      continue\n",
    "\n",
    "    # Create an RGB image of the label (most likely class) on [0, 1].\n",
    "    dw_rgb = (\n",
    "      dw_col.select('label').median()\n",
    "      .toByte().rename('dw_label')\n",
    "      .set({\n",
    "          'class_values': class_values,\n",
    "          'class_names': class_names\n",
    "      })\n",
    "    )\n",
    "\n",
    "    # download\n",
    "    export_params = {\n",
    "      'image': dw_rgb.clip(gee_aoi),\n",
    "      'description': f'dw_{year}',\n",
    "      'folder': 'nr218',\n",
    "      'fileNamePrefix': f'dw_{year}',\n",
    "      'scale': 10,\n",
    "      'region': gee_aoi.geometry(),\n",
    "      'fileFormat': 'GeoTIFF',\n",
    "      'maxPixels': 1e12 \n",
    "    }\n",
    "    task = ee.batch.Export.image.toDrive(**export_params)\n",
    "    task.start()\n",
    "    tasks.append(task)"
   ]
  },
  {
   "cell_type": "code",
   "execution_count": 22,
   "id": "6507d9ee",
   "metadata": {},
   "outputs": [
    {
     "data": {
      "text/html": [
       "\n",
       "            <style>\n",
       "                .geemap-dark {\n",
       "                    --jp-widgets-color: white;\n",
       "                    --jp-widgets-label-color: white;\n",
       "                    --jp-ui-font-color1: white;\n",
       "                    --jp-layout-color2: #454545;\n",
       "                    background-color: #383838;\n",
       "                }\n",
       "\n",
       "                .geemap-dark .jupyter-button {\n",
       "                    --jp-layout-color3: #383838;\n",
       "                }\n",
       "\n",
       "                .geemap-colab {\n",
       "                    background-color: var(--colab-primary-surface-color, white);\n",
       "                }\n",
       "\n",
       "                .geemap-colab .jupyter-button {\n",
       "                    --jp-layout-color3: var(--colab-primary-surface-color, white);\n",
       "                }\n",
       "            </style>\n",
       "            "
      ],
      "text/plain": [
       "<IPython.core.display.HTML object>"
      ]
     },
     "metadata": {},
     "output_type": "display_data"
    },
    {
     "name": "stdout",
     "output_type": "stream",
     "text": [
      "dw_2016: FAILED \n",
      "dw_2017: FAILED \n",
      "dw_2018: COMPLETED \n",
      "dw_2019: COMPLETED \n",
      "dw_2020: COMPLETED \n",
      "dw_2021: RUNNING \n",
      "dw_2022: RUNNING \n",
      "dw_2023: READY \n",
      "dw_2024: READY \n",
      "dw_2025: READY \n"
     ]
    }
   ],
   "source": [
    "for task in tasks:\n",
    "    info = task.status()\n",
    "    print(f\"{info['description']}: {info['state']}\", info.get('progress', ''))\n"
   ]
  },
  {
   "cell_type": "code",
   "execution_count": null,
   "id": "7d13666e",
   "metadata": {},
   "outputs": [],
   "source": []
  },
  {
   "cell_type": "code",
   "execution_count": null,
   "id": "303c224a",
   "metadata": {},
   "outputs": [],
   "source": []
  }
 ],
 "metadata": {
  "kernelspec": {
   "display_name": "ee",
   "language": "python",
   "name": "python3"
  },
  "language_info": {
   "codemirror_mode": {
    "name": "ipython",
    "version": 3
   },
   "file_extension": ".py",
   "mimetype": "text/x-python",
   "name": "python",
   "nbconvert_exporter": "python",
   "pygments_lexer": "ipython3",
   "version": "3.13.5"
  }
 },
 "nbformat": 4,
 "nbformat_minor": 5
}
