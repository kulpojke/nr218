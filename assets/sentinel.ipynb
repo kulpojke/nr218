{
 "cells": [
  {
   "cell_type": "markdown",
   "id": "43be897c",
   "metadata": {},
   "source": [
    "First import modules and initialize Earth Engine."
   ]
  },
  {
   "cell_type": "code",
   "execution_count": 1,
   "id": "55878a77",
   "metadata": {},
   "outputs": [
    {
     "name": "stderr",
     "output_type": "stream",
     "text": [
      "/home/michael/miniforge3/envs/ee/lib/python3.13/site-packages/geemap/conversion.py:23: UserWarning: pkg_resources is deprecated as an API. See https://setuptools.pypa.io/en/latest/pkg_resources.html. The pkg_resources package is slated for removal as early as 2025-11-30. Refrain from using this package or pin to Setuptools<81.\n",
      "  import pkg_resources\n"
     ]
    }
   ],
   "source": [
    "\n",
    "# standard modules\n",
    "import io\n",
    "import json\n",
    "import os\n",
    "from pathlib import Path\n",
    "import time\n",
    "\n",
    "# specialized modules\n",
    "import ee\n",
    "import geemap\n",
    "import geopandas as gpd\n",
    "from pathlib import Path\n",
    "from tqdm import tqdm\n",
    "\n",
    "# initialize the Earth Engine module.\n",
    "ee.Initialize(project='trinity-438000')"
   ]
  },
  {
   "cell_type": "markdown",
   "id": "342577f0",
   "metadata": {},
   "source": [
    "Open the AOI vector file and check it on a map."
   ]
  },
  {
   "cell_type": "code",
   "execution_count": 2,
   "id": "ea35e707",
   "metadata": {},
   "outputs": [
    {
     "data": {
      "text/html": [
       "\n",
       "            <style>\n",
       "                .geemap-dark {\n",
       "                    --jp-widgets-color: white;\n",
       "                    --jp-widgets-label-color: white;\n",
       "                    --jp-ui-font-color1: white;\n",
       "                    --jp-layout-color2: #454545;\n",
       "                    background-color: #383838;\n",
       "                }\n",
       "\n",
       "                .geemap-dark .jupyter-button {\n",
       "                    --jp-layout-color3: #383838;\n",
       "                }\n",
       "\n",
       "                .geemap-colab {\n",
       "                    background-color: var(--colab-primary-surface-color, white);\n",
       "                }\n",
       "\n",
       "                .geemap-colab .jupyter-button {\n",
       "                    --jp-layout-color3: var(--colab-primary-surface-color, white);\n",
       "                }\n",
       "            </style>\n",
       "            "
      ],
      "text/plain": [
       "<IPython.core.display.HTML object>"
      ]
     },
     "metadata": {},
     "output_type": "display_data"
    }
   ],
   "source": [
    "# read AOI\n",
    "dot_slash = Path().cwd()\n",
    "aoi_path = dot_slash.parent / 'untracked_qgis' / 'aoi.geojson'\n"
   ]
  },
  {
   "cell_type": "code",
   "execution_count": 3,
   "id": "5534c0be",
   "metadata": {},
   "outputs": [
    {
     "data": {
      "text/html": [
       "\n",
       "            <style>\n",
       "                .geemap-dark {\n",
       "                    --jp-widgets-color: white;\n",
       "                    --jp-widgets-label-color: white;\n",
       "                    --jp-ui-font-color1: white;\n",
       "                    --jp-layout-color2: #454545;\n",
       "                    background-color: #383838;\n",
       "                }\n",
       "\n",
       "                .geemap-dark .jupyter-button {\n",
       "                    --jp-layout-color3: #383838;\n",
       "                }\n",
       "\n",
       "                .geemap-colab {\n",
       "                    background-color: var(--colab-primary-surface-color, white);\n",
       "                }\n",
       "\n",
       "                .geemap-colab .jupyter-button {\n",
       "                    --jp-layout-color3: var(--colab-primary-surface-color, white);\n",
       "                }\n",
       "            </style>\n",
       "            "
      ],
      "text/plain": [
       "<IPython.core.display.HTML object>"
      ]
     },
     "metadata": {},
     "output_type": "display_data"
    },
    {
     "ename": "EEException",
     "evalue": "Invalid JSON payload received. Unexpected token.\n {\"constantValue\": [Infinity, Infinity]}\n                    ^",
     "output_type": "error",
     "traceback": [
      "\u001b[31m---------------------------------------------------------------------------\u001b[39m",
      "\u001b[31mHttpError\u001b[39m                                 Traceback (most recent call last)",
      "\u001b[36mFile \u001b[39m\u001b[32m~/miniforge3/envs/ee/lib/python3.13/site-packages/ee/data.py:408\u001b[39m, in \u001b[36m_execute_cloud_call\u001b[39m\u001b[34m(call, num_retries)\u001b[39m\n\u001b[32m    407\u001b[39m \u001b[38;5;28;01mtry\u001b[39;00m:\n\u001b[32m--> \u001b[39m\u001b[32m408\u001b[39m   \u001b[38;5;28;01mreturn\u001b[39;00m \u001b[43mcall\u001b[49m\u001b[43m.\u001b[49m\u001b[43mexecute\u001b[49m\u001b[43m(\u001b[49m\u001b[43mnum_retries\u001b[49m\u001b[43m=\u001b[49m\u001b[43mnum_retries\u001b[49m\u001b[43m)\u001b[49m\n\u001b[32m    409\u001b[39m \u001b[38;5;28;01mexcept\u001b[39;00m googleapiclient.errors.HttpError \u001b[38;5;28;01mas\u001b[39;00m e:\n",
      "\u001b[36mFile \u001b[39m\u001b[32m~/miniforge3/envs/ee/lib/python3.13/site-packages/googleapiclient/_helpers.py:130\u001b[39m, in \u001b[36mpositional.<locals>.positional_decorator.<locals>.positional_wrapper\u001b[39m\u001b[34m(*args, **kwargs)\u001b[39m\n\u001b[32m    129\u001b[39m         logger.warning(message)\n\u001b[32m--> \u001b[39m\u001b[32m130\u001b[39m \u001b[38;5;28;01mreturn\u001b[39;00m \u001b[43mwrapped\u001b[49m\u001b[43m(\u001b[49m\u001b[43m*\u001b[49m\u001b[43margs\u001b[49m\u001b[43m,\u001b[49m\u001b[43m \u001b[49m\u001b[43m*\u001b[49m\u001b[43m*\u001b[49m\u001b[43mkwargs\u001b[49m\u001b[43m)\u001b[49m\n",
      "\u001b[36mFile \u001b[39m\u001b[32m~/miniforge3/envs/ee/lib/python3.13/site-packages/googleapiclient/http.py:938\u001b[39m, in \u001b[36mHttpRequest.execute\u001b[39m\u001b[34m(self, http, num_retries)\u001b[39m\n\u001b[32m    937\u001b[39m \u001b[38;5;28;01mif\u001b[39;00m resp.status >= \u001b[32m300\u001b[39m:\n\u001b[32m--> \u001b[39m\u001b[32m938\u001b[39m     \u001b[38;5;28;01mraise\u001b[39;00m HttpError(resp, content, uri=\u001b[38;5;28mself\u001b[39m.uri)\n\u001b[32m    939\u001b[39m \u001b[38;5;28;01mreturn\u001b[39;00m \u001b[38;5;28mself\u001b[39m.postproc(resp, content)\n",
      "\u001b[31mHttpError\u001b[39m: <HttpError 400 when requesting https://earthengine.googleapis.com/v1/projects/trinity-438000/value:compute?prettyPrint=false&alt=json returned \"Invalid JSON payload received. Unexpected token.\n {\"constantValue\": [Infinity, Infinity]}\n                    ^\". Details: \"Invalid JSON payload received. Unexpected token.\n {\"constantValue\": [Infinity, Infinity]}\n                    ^\">",
      "\nDuring handling of the above exception, another exception occurred:\n",
      "\u001b[31mEEException\u001b[39m                               Traceback (most recent call last)",
      "\u001b[36mCell\u001b[39m\u001b[36m \u001b[39m\u001b[32mIn[3]\u001b[39m\u001b[32m, line 7\u001b[39m\n\u001b[32m      5\u001b[39m \u001b[38;5;66;03m# inspect the GeoJSON as an EEObject through geemap.\u001b[39;00m\n\u001b[32m      6\u001b[39m test_map = geemap.Map()\n\u001b[32m----> \u001b[39m\u001b[32m7\u001b[39m \u001b[43mtest_map\u001b[49m\u001b[43m.\u001b[49m\u001b[43mcenterObject\u001b[49m\u001b[43m(\u001b[49m\u001b[43mgee_aoi\u001b[49m\u001b[43m,\u001b[49m\u001b[43m \u001b[49m\u001b[32;43m9\u001b[39;49m\u001b[43m)\u001b[49m \u001b[38;5;66;03m# Centering on the AOI instead of an undefined 'region'\u001b[39;00m\n\u001b[32m      8\u001b[39m test_map.addLayer(gee_aoi, {}, \u001b[33m'\u001b[39m\u001b[33mAOI\u001b[39m\u001b[33m'\u001b[39m)\n\u001b[32m     10\u001b[39m test_map\n",
      "\u001b[36mFile \u001b[39m\u001b[32m~/miniforge3/envs/ee/lib/python3.13/site-packages/geemap/geemap.py:492\u001b[39m, in \u001b[36mMap.center_object\u001b[39m\u001b[34m(self, ee_object, zoom)\u001b[39m\n\u001b[32m    482\u001b[39m \u001b[38;5;28;01mdef\u001b[39;00m\u001b[38;5;250m \u001b[39m\u001b[34mcenter_object\u001b[39m(\n\u001b[32m    483\u001b[39m     \u001b[38;5;28mself\u001b[39m, ee_object: Union[ee.Element, ee.Geometry], zoom: Optional[\u001b[38;5;28mint\u001b[39m] = \u001b[38;5;28;01mNone\u001b[39;00m\n\u001b[32m    484\u001b[39m ) -> \u001b[38;5;28;01mNone\u001b[39;00m:\n\u001b[32m    485\u001b[39m \u001b[38;5;250m    \u001b[39m\u001b[33;03m\"\"\"Centers the map view on a given object.\u001b[39;00m\n\u001b[32m    486\u001b[39m \n\u001b[32m    487\u001b[39m \u001b[33;03m    Args:\u001b[39;00m\n\u001b[32m   (...)\u001b[39m\u001b[32m    490\u001b[39m \u001b[33;03m        zoom (Optional[int], optional): The zoom level, from 1 to 24. Defaults to None.\u001b[39;00m\n\u001b[32m    491\u001b[39m \u001b[33;03m    \"\"\"\u001b[39;00m\n\u001b[32m--> \u001b[39m\u001b[32m492\u001b[39m     \u001b[38;5;28;43msuper\u001b[39;49m\u001b[43m(\u001b[49m\u001b[43m)\u001b[49m\u001b[43m.\u001b[49m\u001b[43mcenter_object\u001b[49m\u001b[43m(\u001b[49m\u001b[43mee_object\u001b[49m\u001b[43m,\u001b[49m\u001b[43m \u001b[49m\u001b[43mzoom\u001b[49m\u001b[43m)\u001b[49m\n\u001b[32m    493\u001b[39m     \u001b[38;5;28;01mif\u001b[39;00m is_arcpy():\n\u001b[32m    494\u001b[39m         bds = \u001b[38;5;28mself\u001b[39m.bounds\n",
      "\u001b[36mFile \u001b[39m\u001b[32m~/miniforge3/envs/ee/lib/python3.13/site-packages/geemap/core.py:849\u001b[39m, in \u001b[36mMap.center_object\u001b[39m\u001b[34m(self, ee_object, zoom)\u001b[39m\n\u001b[32m    847\u001b[39m \u001b[38;5;28;01mif\u001b[39;00m \u001b[38;5;129;01mnot\u001b[39;00m \u001b[38;5;28misinstance\u001b[39m(zoom, \u001b[38;5;28mint\u001b[39m):\n\u001b[32m    848\u001b[39m     \u001b[38;5;28;01mraise\u001b[39;00m \u001b[38;5;167;01mValueError\u001b[39;00m(\u001b[33m\"\u001b[39m\u001b[33mZoom must be an integer.\u001b[39m\u001b[33m\"\u001b[39m)\n\u001b[32m--> \u001b[39m\u001b[32m849\u001b[39m centroid = \u001b[43mgeometry\u001b[49m\u001b[43m.\u001b[49m\u001b[43mcentroid\u001b[49m\u001b[43m(\u001b[49m\u001b[43mmaxError\u001b[49m\u001b[43m=\u001b[49m\u001b[43mmax_error\u001b[49m\u001b[43m)\u001b[49m\u001b[43m.\u001b[49m\u001b[43mgetInfo\u001b[49m\u001b[43m(\u001b[49m\u001b[43m)\u001b[49m[\u001b[33m\"\u001b[39m\u001b[33mcoordinates\u001b[39m\u001b[33m\"\u001b[39m]\n\u001b[32m    850\u001b[39m \u001b[38;5;28mself\u001b[39m.set_center(centroid[\u001b[32m0\u001b[39m], centroid[\u001b[32m1\u001b[39m], zoom)\n",
      "\u001b[36mFile \u001b[39m\u001b[32m~/miniforge3/envs/ee/lib/python3.13/site-packages/ee/computedobject.py:107\u001b[39m, in \u001b[36mComputedObject.getInfo\u001b[39m\u001b[34m(self)\u001b[39m\n\u001b[32m    101\u001b[39m \u001b[38;5;28;01mdef\u001b[39;00m\u001b[38;5;250m \u001b[39m\u001b[34mgetInfo\u001b[39m(\u001b[38;5;28mself\u001b[39m) -> Optional[Any]:\n\u001b[32m    102\u001b[39m \u001b[38;5;250m  \u001b[39m\u001b[33;03m\"\"\"Fetch and return information about this object.\u001b[39;00m\n\u001b[32m    103\u001b[39m \n\u001b[32m    104\u001b[39m \u001b[33;03m  Returns:\u001b[39;00m\n\u001b[32m    105\u001b[39m \u001b[33;03m    The object can evaluate to anything.\u001b[39;00m\n\u001b[32m    106\u001b[39m \u001b[33;03m  \"\"\"\u001b[39;00m\n\u001b[32m--> \u001b[39m\u001b[32m107\u001b[39m   \u001b[38;5;28;01mreturn\u001b[39;00m \u001b[43mdata\u001b[49m\u001b[43m.\u001b[49m\u001b[43mcomputeValue\u001b[49m\u001b[43m(\u001b[49m\u001b[38;5;28;43mself\u001b[39;49m\u001b[43m)\u001b[49m\n",
      "\u001b[36mFile \u001b[39m\u001b[32m~/miniforge3/envs/ee/lib/python3.13/site-packages/ee/data.py:1128\u001b[39m, in \u001b[36mcomputeValue\u001b[39m\u001b[34m(obj)\u001b[39m\n\u001b[32m   1125\u001b[39m body = {\u001b[33m'\u001b[39m\u001b[33mexpression\u001b[39m\u001b[33m'\u001b[39m: serializer.encode(obj, for_cloud_api=\u001b[38;5;28;01mTrue\u001b[39;00m)}\n\u001b[32m   1126\u001b[39m _maybe_populate_workload_tag(body)\n\u001b[32m-> \u001b[39m\u001b[32m1128\u001b[39m \u001b[38;5;28;01mreturn\u001b[39;00m \u001b[43m_execute_cloud_call\u001b[49m\u001b[43m(\u001b[49m\n\u001b[32m   1129\u001b[39m \u001b[43m    \u001b[49m\u001b[43m_get_cloud_projects\u001b[49m\u001b[43m(\u001b[49m\u001b[43m)\u001b[49m\n\u001b[32m   1130\u001b[39m \u001b[43m    \u001b[49m\u001b[43m.\u001b[49m\u001b[43mvalue\u001b[49m\u001b[43m(\u001b[49m\u001b[43m)\u001b[49m\n\u001b[32m   1131\u001b[39m \u001b[43m    \u001b[49m\u001b[43m.\u001b[49m\u001b[43mcompute\u001b[49m\u001b[43m(\u001b[49m\u001b[43mbody\u001b[49m\u001b[43m=\u001b[49m\u001b[43mbody\u001b[49m\u001b[43m,\u001b[49m\u001b[43m \u001b[49m\u001b[43mproject\u001b[49m\u001b[43m=\u001b[49m\u001b[43m_get_projects_path\u001b[49m\u001b[43m(\u001b[49m\u001b[43m)\u001b[49m\u001b[43m,\u001b[49m\u001b[43m \u001b[49m\u001b[43mprettyPrint\u001b[49m\u001b[43m=\u001b[49m\u001b[38;5;28;43;01mFalse\u001b[39;49;00m\u001b[43m)\u001b[49m\n\u001b[32m   1132\u001b[39m \u001b[43m\u001b[49m\u001b[43m)\u001b[49m[\u001b[33m'\u001b[39m\u001b[33mresult\u001b[39m\u001b[33m'\u001b[39m]\n",
      "\u001b[36mFile \u001b[39m\u001b[32m~/miniforge3/envs/ee/lib/python3.13/site-packages/ee/data.py:410\u001b[39m, in \u001b[36m_execute_cloud_call\u001b[39m\u001b[34m(call, num_retries)\u001b[39m\n\u001b[32m    408\u001b[39m   \u001b[38;5;28;01mreturn\u001b[39;00m call.execute(num_retries=num_retries)\n\u001b[32m    409\u001b[39m \u001b[38;5;28;01mexcept\u001b[39;00m googleapiclient.errors.HttpError \u001b[38;5;28;01mas\u001b[39;00m e:\n\u001b[32m--> \u001b[39m\u001b[32m410\u001b[39m   \u001b[38;5;28;01mraise\u001b[39;00m _translate_cloud_exception(e)\n",
      "\u001b[31mEEException\u001b[39m: Invalid JSON payload received. Unexpected token.\n {\"constantValue\": [Infinity, Infinity]}\n                    ^"
     ]
    }
   ],
   "source": [
    "aoi = gpd.read_file(aoi_path).to_crs(4326)\n",
    "gee_json = json.loads(aoi[['geometry']].to_json())\n",
    "gee_aoi = geemap.geojson_to_ee(gee_json)\n",
    "\n",
    "# inspect the GeoJSON as an EEObject through geemap.\n",
    "test_map = geemap.Map()\n",
    "test_map.centerObject(gee_aoi, 9) # Centering on the AOI instead of an undefined 'region'\n",
    "test_map.addLayer(gee_aoi, {}, 'AOI')\n",
    "\n",
    "test_map\n"
   ]
  },
  {
   "cell_type": "markdown",
   "id": "4e40c462",
   "metadata": {},
   "source": [
    "Get the vertices of the extent of the AOI to use in queries to API."
   ]
  },
  {
   "cell_type": "code",
   "execution_count": null,
   "id": "851d4cc9",
   "metadata": {},
   "outputs": [
    {
     "data": {
      "text/html": [
       "\n",
       "            <style>\n",
       "                .geemap-dark {\n",
       "                    --jp-widgets-color: white;\n",
       "                    --jp-widgets-label-color: white;\n",
       "                    --jp-ui-font-color1: white;\n",
       "                    --jp-layout-color2: #454545;\n",
       "                    background-color: #383838;\n",
       "                }\n",
       "\n",
       "                .geemap-dark .jupyter-button {\n",
       "                    --jp-layout-color3: #383838;\n",
       "                }\n",
       "\n",
       "                .geemap-colab {\n",
       "                    background-color: var(--colab-primary-surface-color, white);\n",
       "                }\n",
       "\n",
       "                .geemap-colab .jupyter-button {\n",
       "                    --jp-layout-color3: var(--colab-primary-surface-color, white);\n",
       "                }\n",
       "            </style>\n",
       "            "
      ],
      "text/plain": [
       "<IPython.core.display.HTML object>"
      ]
     },
     "metadata": {},
     "output_type": "display_data"
    },
    {
     "ename": "NameError",
     "evalue": "name 'aoi' is not defined",
     "output_type": "error",
     "traceback": [
      "\u001b[31m---------------------------------------------------------------------------\u001b[39m",
      "\u001b[31mNameError\u001b[39m                                 Traceback (most recent call last)",
      "\u001b[36mCell\u001b[39m\u001b[36m \u001b[39m\u001b[32mIn[3]\u001b[39m\u001b[32m, line 2\u001b[39m\n\u001b[32m      1\u001b[39m \u001b[38;5;66;03m# get extent\u001b[39;00m\n\u001b[32m----> \u001b[39m\u001b[32m2\u001b[39m minx, miny, maxx, maxy = \u001b[43maoi\u001b[49m.total_bounds\n\u001b[32m      4\u001b[39m verts = [[\n\u001b[32m      5\u001b[39m [minx, miny],\n\u001b[32m      6\u001b[39m [minx, maxy],\n\u001b[32m   (...)\u001b[39m\u001b[32m      9\u001b[39m [minx, miny]\n\u001b[32m     10\u001b[39m ]]\n\u001b[32m     12\u001b[39m \u001b[38;5;66;03m# make normal float from np.float63\u001b[39;00m\n",
      "\u001b[31mNameError\u001b[39m: name 'aoi' is not defined"
     ]
    }
   ],
   "source": [
    "# get extent\n",
    "minx, miny, maxx, maxy = aoi.total_bounds\n",
    "\n",
    "verts = [[\n",
    "[minx, miny],\n",
    "[minx, maxy],\n",
    "[maxx, maxy],\n",
    "[maxx, miny],\n",
    "[minx, miny]\n",
    "]]\n",
    "\n",
    "# make normal float from np.float63\n",
    "verts = [[float(x), float(y)] for x, y in verts[0]]\n",
    "\n",
    "verts"
   ]
  },
  {
   "cell_type": "markdown",
   "id": "e0302f54",
   "metadata": {},
   "source": [
    "We will now download Harmonized Sentinel-2 MSI: MultiSpectral Instrument, Level-2A (SR), \n",
    "\n"
   ]
  },
  {
   "cell_type": "code",
   "execution_count": null,
   "id": "9a461187",
   "metadata": {},
   "outputs": [
    {
     "data": {
      "text/html": [
       "\n",
       "            <style>\n",
       "                .geemap-dark {\n",
       "                    --jp-widgets-color: white;\n",
       "                    --jp-widgets-label-color: white;\n",
       "                    --jp-ui-font-color1: white;\n",
       "                    --jp-layout-color2: #454545;\n",
       "                    background-color: #383838;\n",
       "                }\n",
       "\n",
       "                .geemap-dark .jupyter-button {\n",
       "                    --jp-layout-color3: #383838;\n",
       "                }\n",
       "\n",
       "                .geemap-colab {\n",
       "                    background-color: var(--colab-primary-surface-color, white);\n",
       "                }\n",
       "\n",
       "                .geemap-colab .jupyter-button {\n",
       "                    --jp-layout-color3: var(--colab-primary-surface-color, white);\n",
       "                }\n",
       "            </style>\n",
       "            "
      ],
      "text/plain": [
       "<IPython.core.display.HTML object>"
      ]
     },
     "metadata": {},
     "output_type": "display_data"
    }
   ],
   "source": [
    "# date range\n",
    "START = ee.Date('2015-01-01')\n",
    "END = ee.Date('2025-08-01')\n",
    "\n",
    "# date and geographic filter\n",
    "col_filter = ee.Filter.And(\n",
    "    ee.Filter.geometry(ee.Geometry.Polygon(verts)),\n",
    "    ee.Filter.date(START, END),\n",
    ")\n",
    "\n",
    "# collections of interest\n",
    "s2_col = (\n",
    "    ee.ImageCollection('COPERNICUS/S2_SR_HARMONIZED')\n",
    "        .filter(col_filter)\n",
    "        .filter(ee.Filter.lt('CLOUDY_PIXEL_PERCENTAGE', 35))\n",
    ")"
   ]
  },
  {
   "cell_type": "code",
   "execution_count": null,
   "id": "125ce0ea",
   "metadata": {},
   "outputs": [
    {
     "data": {
      "text/html": [
       "\n",
       "            <style>\n",
       "                .geemap-dark {\n",
       "                    --jp-widgets-color: white;\n",
       "                    --jp-widgets-label-color: white;\n",
       "                    --jp-ui-font-color1: white;\n",
       "                    --jp-layout-color2: #454545;\n",
       "                    background-color: #383838;\n",
       "                }\n",
       "\n",
       "                .geemap-dark .jupyter-button {\n",
       "                    --jp-layout-color3: #383838;\n",
       "                }\n",
       "\n",
       "                .geemap-colab {\n",
       "                    background-color: var(--colab-primary-surface-color, white);\n",
       "                }\n",
       "\n",
       "                .geemap-colab .jupyter-button {\n",
       "                    --jp-layout-color3: var(--colab-primary-surface-color, white);\n",
       "                }\n",
       "            </style>\n",
       "            "
      ],
      "text/plain": [
       "<IPython.core.display.HTML object>"
      ]
     },
     "metadata": {},
     "output_type": "display_data"
    }
   ],
   "source": [
    "def mask_s2_clouds(image):\n",
    "  '''Masks clouds in a Sentinel-2 image using the QA band.\n",
    "\n",
    "  Args:\n",
    "      image (ee.Image): A Sentinel-2 image.\n",
    "\n",
    "  Returns:\n",
    "      ee.Image: A cloud-masked Sentinel-2 image.\n",
    "  '''\n",
    "  qa = image.select('QA60')\n",
    "\n",
    "  # bits 10 and 11 are clouds and cirrus, respectively.\n",
    "  cloud_bit_mask = 1 << 10\n",
    "  cirrus_bit_mask = 1 << 11\n",
    "\n",
    "  # both flags should be set to zero, indicating clear conditions.\n",
    "  mask = (\n",
    "      qa.bitwiseAnd(cloud_bit_mask)\n",
    "      .eq(0)\n",
    "      .And(qa.bitwiseAnd(cirrus_bit_mask).eq(0))\n",
    "  )\n",
    "\n",
    "  return image.updateMask(mask).divide(10000)"
   ]
  },
  {
   "cell_type": "code",
   "execution_count": null,
   "id": "88f62968",
   "metadata": {},
   "outputs": [
    {
     "ename": "NameError",
     "evalue": "name 'Path' is not defined",
     "output_type": "error",
     "traceback": [
      "\u001b[31m---------------------------------------------------------------------------\u001b[39m",
      "\u001b[31mNameError\u001b[39m                                 Traceback (most recent call last)",
      "\u001b[36mCell\u001b[39m\u001b[36m \u001b[39m\u001b[32mIn[1]\u001b[39m\u001b[32m, line 2\u001b[39m\n\u001b[32m      1\u001b[39m \u001b[38;5;66;03m# dowland dirs\u001b[39;00m\n\u001b[32m----> \u001b[39m\u001b[32m2\u001b[39m s2_dir = \u001b[43mPath\u001b[49m(\u001b[33m'\u001b[39m\u001b[33m/home/michael/OneDrive/nr218_files/s2\u001b[39m\u001b[33m'\u001b[39m)\n\u001b[32m      5\u001b[39m tasks = []\n\u001b[32m      6\u001b[39m \u001b[38;5;28;01mfor\u001b[39;00m year \u001b[38;5;129;01min\u001b[39;00m tqdm(\u001b[38;5;28mrange\u001b[39m(\u001b[32m2016\u001b[39m, \u001b[32m2026\u001b[39m)):\n\u001b[32m      7\u001b[39m     \u001b[38;5;66;03m# filter for June and AOI\u001b[39;00m\n",
      "\u001b[31mNameError\u001b[39m: name 'Path' is not defined"
     ]
    }
   ],
   "source": [
    "# dowland dirs\n",
    "s2_dir = Path('/home/michael/OneDrive/nr218_files/s2')\n",
    "\n",
    "\n",
    "tasks = []\n",
    "for year in tqdm(range(2016, 2026)):\n",
    "    # filter for June and AOI\n",
    "    start = ee.Date(f'{year}-06-01')\n",
    "    end = ee.Date(f'{year}-06-31')\n",
    "    lil_filter = ee.Filter.And(\n",
    "    ee.Filter.geometry(ee.Geometry.Polygon(verts)),\n",
    "    ee.Filter.date(start, end),\n",
    "    )\n",
    "\n",
    "    # s2 median composite\n",
    "    s2 = (\n",
    "      ee.ImageCollection('COPERNICUS/S2_HARMONIZED')\n",
    "        .filter(lil_filter)\n",
    "        .filter(ee.Filter.lt('CLOUDY_PIXEL_PERCENTAGE', 35))\n",
    "        .map(mask_s2_clouds)\n",
    "        .median()\n",
    "    )\n",
    "    \n",
    "    # download\n",
    "    export_params = {\n",
    "      'image': s2.clip(gee_aoi),\n",
    "      'description': f'dw_{year}_s2',\n",
    "      'folder': 'trinity',\n",
    "      'fileNamePrefix': f'dw_{year}_s2',\n",
    "      'scale': 10,\n",
    "      'region': gee_aoi.geometry(),\n",
    "      'fileFormat': 'GeoTIFF',\n",
    "      'maxPixels': 1e12 \n",
    "    }\n",
    "    task = ee.batch.Export.image.toDrive(**export_params)\n",
    "    task.start()\n",
    "    tasks.append(task)\n"
   ]
  },
  {
   "cell_type": "markdown",
   "id": "29885121",
   "metadata": {},
   "source": [
    "\n",
    "Below is to fix a mistake"
   ]
  },
  {
   "cell_type": "code",
   "execution_count": null,
   "id": "3a93a001",
   "metadata": {},
   "outputs": [
    {
     "data": {
      "text/html": [
       "\n",
       "            <style>\n",
       "                .geemap-dark {\n",
       "                    --jp-widgets-color: white;\n",
       "                    --jp-widgets-label-color: white;\n",
       "                    --jp-ui-font-color1: white;\n",
       "                    --jp-layout-color2: #454545;\n",
       "                    background-color: #383838;\n",
       "                }\n",
       "\n",
       "                .geemap-dark .jupyter-button {\n",
       "                    --jp-layout-color3: #383838;\n",
       "                }\n",
       "\n",
       "                .geemap-colab {\n",
       "                    background-color: var(--colab-primary-surface-color, white);\n",
       "                }\n",
       "\n",
       "                .geemap-colab .jupyter-button {\n",
       "                    --jp-layout-color3: var(--colab-primary-surface-color, white);\n",
       "                }\n",
       "            </style>\n",
       "            "
      ],
      "text/plain": [
       "<IPython.core.display.HTML object>"
      ]
     },
     "metadata": {},
     "output_type": "display_data"
    }
   ],
   "source": [
    "d = Path('/home/michael/data/trinity_trees/sentinel2')\n",
    "files = d.glob('dw_[0-9][0-9][0-9][0-9]_probability-[0-9]*-[0-9]*.tif')\n",
    "\n",
    "for f in list(files):\n",
    "    f.rename('s2'.join(str(f).split('probability')))"
   ]
  },
  {
   "cell_type": "code",
   "execution_count": null,
   "id": "a985cfa8",
   "metadata": {},
   "outputs": [],
   "source": [
    "ap2 = geemap.Map(basemap='SATELLITE')\n",
    "map2.centerObject(gee_aoi, 9) # Centering on the AOI instead of an undefined 'region'\n",
    "map2.addLayer(gee_aoi, {}, 'AOI')\n",
    "\n",
    "tasks = []\n",
    "for year in tqdm(range(2016, 2026)):\n",
    "    for month in range(12):\n",
    "        # filter for year round and AOI\n",
    "        lil_filter = ee.Filter.And(\n",
    "            ee.Filter.geometry(ee.Geometry.Polygon(verts)),\n",
    "            ee.Filter.calendarRange(year, year, 'year'),\n",
    "            ee.Filter.calendarRange(month, month, 'month')\n",
    "        )"
   ]
  },
  {
   "cell_type": "code",
   "execution_count": null,
   "id": "6e2c4c3c",
   "metadata": {},
   "outputs": [
    {
     "data": {
      "text/html": [
       "\n",
       "            <style>\n",
       "                .geemap-dark {\n",
       "                    --jp-widgets-color: white;\n",
       "                    --jp-widgets-label-color: white;\n",
       "                    --jp-ui-font-color1: white;\n",
       "                    --jp-layout-color2: #454545;\n",
       "                    background-color: #383838;\n",
       "                }\n",
       "\n",
       "                .geemap-dark .jupyter-button {\n",
       "                    --jp-layout-color3: #383838;\n",
       "                }\n",
       "\n",
       "                .geemap-colab {\n",
       "                    background-color: var(--colab-primary-surface-color, white);\n",
       "                }\n",
       "\n",
       "                .geemap-colab .jupyter-button {\n",
       "                    --jp-layout-color3: var(--colab-primary-surface-color, white);\n",
       "                }\n",
       "            </style>\n",
       "            "
      ],
      "text/plain": [
       "<IPython.core.display.HTML object>"
      ]
     },
     "metadata": {},
     "output_type": "display_data"
    },
    {
     "name": "stderr",
     "output_type": "stream",
     "text": [
      "100%|██████████| 10/10 [02:18<00:00, 13.89s/it]\n"
     ]
    },
    {
     "data": {
      "application/vnd.jupyter.widget-view+json": {
       "model_id": "05f7e283a54c4c02bdb36f43edc444a7",
       "version_major": 2,
       "version_minor": 0
      },
      "text/plain": [
       "Map(center=[40.89654200357109, -122.9134284979662], controls=(WidgetControl(options=['position', 'transparent_…"
      ]
     },
     "metadata": {},
     "output_type": "display_data"
    }
   ],
   "source": [
    "\n",
    "map2 = geemap.Map(basemap='SATELLITE')\n",
    "map2.centerObject(gee_aoi, 9) # Centering on the AOI instead of an undefined 'region'\n",
    "map2.addLayer(gee_aoi, {}, 'AOI')\n",
    "\n",
    "\n",
    "tasks = []\n",
    "for year in tqdm(range(2016, 2026)):\n",
    "  \n",
    "    # filter for year, month and AOI\n",
    "    start = ee.Date(f'{year}-01-01')\n",
    "    end = ee.Date(f'{year}-12-31')\n",
    "    lil_filter = ee.Filter.And(\n",
    "    ee.Filter.geometry(ee.Geometry.Polygon(verts)),\n",
    "    ee.Filter.calendarRange(year, year, 'year'),\n",
    "    ee.Filter.calendarRange(start, end, 'month')\n",
    "    )\n",
    "\n",
    "    # s2 median composite\n",
    "    s2 = (\n",
    "      ee.ImageCollection('COPERNICUS/S2_HARMONIZED')\n",
    "        .filter(lil_filter)\n",
    "        .filter(ee.Filter.lt('CLOUDY_PIXEL_PERCENTAGE', 20))\n",
    "        .map(mask_s2_clouds)\n",
    "        .median()\n",
    "    )\n",
    "\n",
    "    \n",
    "    ((NIR - Red) / (NIR + Red + L)) * (1 + L)\n",
    "\n",
    "    # create  mode composite based on highest probable lulc class during of summer months\n",
    "    classification = dw.select('label');\n",
    "    dwComposite = classification.reduce(ee.Reducer.mode())\n",
    "    dw_rgb = dwComposite.visualize(min=0, max=8, palette=dwVisParams['palette']).divide(255)\n",
    "\n",
    "    # get the most likely class probability (as mean across composite).\n",
    "    top1_prob = dw.select(\n",
    "      probabilityBands\n",
    "      ).reduce(\n",
    "        ee.Reducer.mean()\n",
    "        ).reduce(ee.Reducer.max())\n",
    "    \n",
    "    # make image for display\n",
    "    alpha = top1_prob.multiply(0.7).add(0.3)\n",
    "    dw_rgba = dw_rgb.addBands(alpha.multiply(255))\n",
    "\n",
    "    # download\n",
    "    for thing, f'dw_{year}_s2' in [\n",
    "      \n",
    "      (s2, f'dw_{year}_s2')\n",
    "    ]:\n",
    "      export_params = {\n",
    "      'image': s2.clip(gee_aoi),\n",
    "      'description': f'dw_{year}_s2',\n",
    "      'folder': 'trinity',\n",
    "      'fileNamePrefix': f'dw_{year}_s2',\n",
    "      'scale': 10,\n",
    "      'region': gee_aoi.geometry(),\n",
    "      'fileFormat': 'GeoTIFF',\n",
    "      'maxPixels': 1e12 \n",
    "      }\n",
    "      task = ee.batch.Export.image.toDrive(**export_params)\n",
    "      task.start()\n",
    "      tasks.append(task)\n",
    "\n",
    "    # clip the composite and add it to the map.\n",
    "    map.addLayer(dw_rgba.clip(gee_aoi), {}, f'{year} Classified Composite ')\n",
    "\n",
    "\n",
    "map.add_legend(keys=probabilityBands, colors=dwVisParams['palette'], position='bottomright')\n",
    "\n",
    "map"
   ]
  }
 ],
 "metadata": {
  "kernelspec": {
   "display_name": "ee",
   "language": "python",
   "name": "python3"
  },
  "language_info": {
   "codemirror_mode": {
    "name": "ipython",
    "version": 3
   },
   "file_extension": ".py",
   "mimetype": "text/x-python",
   "name": "python",
   "nbconvert_exporter": "python",
   "pygments_lexer": "ipython3",
   "version": "3.13.5"
  }
 },
 "nbformat": 4,
 "nbformat_minor": 5
}
