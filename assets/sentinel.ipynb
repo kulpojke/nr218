{
 "cells": [
  {
   "cell_type": "markdown",
   "id": "43be897c",
   "metadata": {},
   "source": [
    "First import modules and initialize Earth Engine."
   ]
  },
  {
   "cell_type": "code",
   "execution_count": 1,
   "id": "55878a77",
   "metadata": {},
   "outputs": [
    {
     "name": "stderr",
     "output_type": "stream",
     "text": [
      "/home/michael/miniforge3/envs/ee/lib/python3.13/site-packages/geemap/conversion.py:23: UserWarning: pkg_resources is deprecated as an API. See https://setuptools.pypa.io/en/latest/pkg_resources.html. The pkg_resources package is slated for removal as early as 2025-11-30. Refrain from using this package or pin to Setuptools<81.\n",
      "  import pkg_resources\n"
     ]
    }
   ],
   "source": [
    "\n",
    "# standard modules\n",
    "import io\n",
    "import json\n",
    "import os\n",
    "from pathlib import Path\n",
    "import time\n",
    "\n",
    "# specialized modules\n",
    "import ee\n",
    "import geemap\n",
    "import geopandas as gpd\n",
    "from pathlib import Path\n",
    "from tqdm import tqdm\n",
    "\n",
    "# initialize the Earth Engine module.\n",
    "ee.Initialize(project='trinity-438000')"
   ]
  },
  {
   "cell_type": "markdown",
   "id": "342577f0",
   "metadata": {},
   "source": [
    "Open the AOI vector file and check it on a map."
   ]
  },
  {
   "cell_type": "code",
   "execution_count": 2,
   "id": "ea35e707",
   "metadata": {},
   "outputs": [
    {
     "data": {
      "text/html": [
       "\n",
       "            <style>\n",
       "                .geemap-dark {\n",
       "                    --jp-widgets-color: white;\n",
       "                    --jp-widgets-label-color: white;\n",
       "                    --jp-ui-font-color1: white;\n",
       "                    --jp-layout-color2: #454545;\n",
       "                    background-color: #383838;\n",
       "                }\n",
       "\n",
       "                .geemap-dark .jupyter-button {\n",
       "                    --jp-layout-color3: #383838;\n",
       "                }\n",
       "\n",
       "                .geemap-colab {\n",
       "                    background-color: var(--colab-primary-surface-color, white);\n",
       "                }\n",
       "\n",
       "                .geemap-colab .jupyter-button {\n",
       "                    --jp-layout-color3: var(--colab-primary-surface-color, white);\n",
       "                }\n",
       "            </style>\n",
       "            "
      ],
      "text/plain": [
       "<IPython.core.display.HTML object>"
      ]
     },
     "metadata": {},
     "output_type": "display_data"
    }
   ],
   "source": [
    "# read AOI\n",
    "dot_slash = Path().cwd()\n",
    "aoi_path = dot_slash.parent / 'untracked_qgis' / 'aoi.geojson'\n"
   ]
  },
  {
   "cell_type": "code",
   "execution_count": 9,
   "id": "5534c0be",
   "metadata": {},
   "outputs": [
    {
     "data": {
      "text/html": [
       "\n",
       "            <style>\n",
       "                .geemap-dark {\n",
       "                    --jp-widgets-color: white;\n",
       "                    --jp-widgets-label-color: white;\n",
       "                    --jp-ui-font-color1: white;\n",
       "                    --jp-layout-color2: #454545;\n",
       "                    background-color: #383838;\n",
       "                }\n",
       "\n",
       "                .geemap-dark .jupyter-button {\n",
       "                    --jp-layout-color3: #383838;\n",
       "                }\n",
       "\n",
       "                .geemap-colab {\n",
       "                    background-color: var(--colab-primary-surface-color, white);\n",
       "                }\n",
       "\n",
       "                .geemap-colab .jupyter-button {\n",
       "                    --jp-layout-color3: var(--colab-primary-surface-color, white);\n",
       "                }\n",
       "            </style>\n",
       "            "
      ],
      "text/plain": [
       "<IPython.core.display.HTML object>"
      ]
     },
     "metadata": {},
     "output_type": "display_data"
    },
    {
     "data": {
      "application/vnd.jupyter.widget-view+json": {
       "model_id": "f8cea868464a4e85a623e367e6c950e3",
       "version_major": 2,
       "version_minor": 0
      },
      "text/plain": [
       "Map(center=[41.15499963539352, -122.81974142942383], controls=(WidgetControl(options=['position', 'transparent…"
      ]
     },
     "execution_count": 9,
     "metadata": {},
     "output_type": "execute_result"
    }
   ],
   "source": [
    "aoi = gpd.read_file(aoi_path).to_crs(4326)\n",
    "gee_json = json.loads(aoi[['geometry']].to_json())\n",
    "gee_aoi = geemap.geojson_to_ee(gee_json)\n",
    "\n",
    "# inspect the GeoJSON as an EEObject through geemap.\n",
    "test_map = geemap.Map()\n",
    "test_map.centerObject(gee_aoi, 9) # Centering on the AOI instead of an undefined 'region'\n",
    "test_map.addLayer(gee_aoi, {}, 'AOI')\n",
    "\n",
    "test_map\n"
   ]
  },
  {
   "cell_type": "markdown",
   "id": "4e40c462",
   "metadata": {},
   "source": [
    "Get the vertices of the extent of the AOI to use in queries to API."
   ]
  },
  {
   "cell_type": "code",
   "execution_count": 3,
   "id": "851d4cc9",
   "metadata": {},
   "outputs": [
    {
     "data": {
      "text/html": [
       "\n",
       "            <style>\n",
       "                .geemap-dark {\n",
       "                    --jp-widgets-color: white;\n",
       "                    --jp-widgets-label-color: white;\n",
       "                    --jp-ui-font-color1: white;\n",
       "                    --jp-layout-color2: #454545;\n",
       "                    background-color: #383838;\n",
       "                }\n",
       "\n",
       "                .geemap-dark .jupyter-button {\n",
       "                    --jp-layout-color3: #383838;\n",
       "                }\n",
       "\n",
       "                .geemap-colab {\n",
       "                    background-color: var(--colab-primary-surface-color, white);\n",
       "                }\n",
       "\n",
       "                .geemap-colab .jupyter-button {\n",
       "                    --jp-layout-color3: var(--colab-primary-surface-color, white);\n",
       "                }\n",
       "            </style>\n",
       "            "
      ],
      "text/plain": [
       "<IPython.core.display.HTML object>"
      ]
     },
     "metadata": {},
     "output_type": "display_data"
    },
    {
     "ename": "NameError",
     "evalue": "name 'aoi' is not defined",
     "output_type": "error",
     "traceback": [
      "\u001b[31m---------------------------------------------------------------------------\u001b[39m",
      "\u001b[31mNameError\u001b[39m                                 Traceback (most recent call last)",
      "\u001b[36mCell\u001b[39m\u001b[36m \u001b[39m\u001b[32mIn[3]\u001b[39m\u001b[32m, line 2\u001b[39m\n\u001b[32m      1\u001b[39m \u001b[38;5;66;03m# get extent\u001b[39;00m\n\u001b[32m----> \u001b[39m\u001b[32m2\u001b[39m minx, miny, maxx, maxy = \u001b[43maoi\u001b[49m.total_bounds\n\u001b[32m      4\u001b[39m verts = [[\n\u001b[32m      5\u001b[39m [minx, miny],\n\u001b[32m      6\u001b[39m [minx, maxy],\n\u001b[32m   (...)\u001b[39m\u001b[32m      9\u001b[39m [minx, miny]\n\u001b[32m     10\u001b[39m ]]\n\u001b[32m     12\u001b[39m \u001b[38;5;66;03m# make normal float from np.float63\u001b[39;00m\n",
      "\u001b[31mNameError\u001b[39m: name 'aoi' is not defined"
     ]
    }
   ],
   "source": [
    "# get extent\n",
    "minx, miny, maxx, maxy = aoi.total_bounds\n",
    "\n",
    "verts = [[\n",
    "[minx, miny],\n",
    "[minx, maxy],\n",
    "[maxx, maxy],\n",
    "[maxx, miny],\n",
    "[minx, miny]\n",
    "]]\n",
    "\n",
    "# make normal float from np.float63\n",
    "verts = [[float(x), float(y)] for x, y in verts[0]]\n",
    "\n",
    "verts"
   ]
  },
  {
   "cell_type": "markdown",
   "id": "e0302f54",
   "metadata": {},
   "source": [
    "We will now download Harmonized Sentinel-2 MSI: MultiSpectral Instrument, Level-2A (SR), \n",
    "\n"
   ]
  },
  {
   "cell_type": "code",
   "execution_count": 11,
   "id": "9a461187",
   "metadata": {},
   "outputs": [
    {
     "data": {
      "text/html": [
       "\n",
       "            <style>\n",
       "                .geemap-dark {\n",
       "                    --jp-widgets-color: white;\n",
       "                    --jp-widgets-label-color: white;\n",
       "                    --jp-ui-font-color1: white;\n",
       "                    --jp-layout-color2: #454545;\n",
       "                    background-color: #383838;\n",
       "                }\n",
       "\n",
       "                .geemap-dark .jupyter-button {\n",
       "                    --jp-layout-color3: #383838;\n",
       "                }\n",
       "\n",
       "                .geemap-colab {\n",
       "                    background-color: var(--colab-primary-surface-color, white);\n",
       "                }\n",
       "\n",
       "                .geemap-colab .jupyter-button {\n",
       "                    --jp-layout-color3: var(--colab-primary-surface-color, white);\n",
       "                }\n",
       "            </style>\n",
       "            "
      ],
      "text/plain": [
       "<IPython.core.display.HTML object>"
      ]
     },
     "metadata": {},
     "output_type": "display_data"
    }
   ],
   "source": [
    "# date range\n",
    "START = ee.Date('2015-01-01')\n",
    "END = ee.Date('2025-08-01')\n",
    "\n",
    "# date and geographic filter\n",
    "col_filter = ee.Filter.And(\n",
    "    ee.Filter.geometry(ee.Geometry.Polygon(verts)),\n",
    "    ee.Filter.date(START, END),\n",
    ")\n",
    "\n",
    "# collections of interest\n",
    "s2_col = (\n",
    "    ee.ImageCollection('COPERNICUS/S2_SR_HARMONIZED')\n",
    "        .filter(col_filter)\n",
    "        .filter(ee.Filter.lt('CLOUDY_PIXEL_PERCENTAGE', 35))\n",
    ")"
   ]
  },
  {
   "cell_type": "code",
   "execution_count": 12,
   "id": "125ce0ea",
   "metadata": {},
   "outputs": [
    {
     "data": {
      "text/html": [
       "\n",
       "            <style>\n",
       "                .geemap-dark {\n",
       "                    --jp-widgets-color: white;\n",
       "                    --jp-widgets-label-color: white;\n",
       "                    --jp-ui-font-color1: white;\n",
       "                    --jp-layout-color2: #454545;\n",
       "                    background-color: #383838;\n",
       "                }\n",
       "\n",
       "                .geemap-dark .jupyter-button {\n",
       "                    --jp-layout-color3: #383838;\n",
       "                }\n",
       "\n",
       "                .geemap-colab {\n",
       "                    background-color: var(--colab-primary-surface-color, white);\n",
       "                }\n",
       "\n",
       "                .geemap-colab .jupyter-button {\n",
       "                    --jp-layout-color3: var(--colab-primary-surface-color, white);\n",
       "                }\n",
       "            </style>\n",
       "            "
      ],
      "text/plain": [
       "<IPython.core.display.HTML object>"
      ]
     },
     "metadata": {},
     "output_type": "display_data"
    }
   ],
   "source": [
    "def mask_s2_clouds(image):\n",
    "  '''Masks clouds in a Sentinel-2 image using the QA band.\n",
    "\n",
    "  Args:\n",
    "      image (ee.Image): A Sentinel-2 image.\n",
    "\n",
    "  Returns:\n",
    "      ee.Image: A cloud-masked Sentinel-2 image.\n",
    "  '''\n",
    "  qa = image.select('QA60')\n",
    "\n",
    "  # bits 10 and 11 are clouds and cirrus, respectively.\n",
    "  cloud_bit_mask = 1 << 10\n",
    "  cirrus_bit_mask = 1 << 11\n",
    "\n",
    "  # both flags should be set to zero, indicating clear conditions.\n",
    "  mask = (\n",
    "      qa.bitwiseAnd(cloud_bit_mask)\n",
    "      .eq(0)\n",
    "      .And(qa.bitwiseAnd(cirrus_bit_mask).eq(0))\n",
    "  )\n",
    "\n",
    "  return image.updateMask(mask).divide(10000)"
   ]
  },
  {
   "cell_type": "code",
   "execution_count": 14,
   "id": "88f62968",
   "metadata": {},
   "outputs": [
    {
     "data": {
      "text/html": [
       "\n",
       "            <style>\n",
       "                .geemap-dark {\n",
       "                    --jp-widgets-color: white;\n",
       "                    --jp-widgets-label-color: white;\n",
       "                    --jp-ui-font-color1: white;\n",
       "                    --jp-layout-color2: #454545;\n",
       "                    background-color: #383838;\n",
       "                }\n",
       "\n",
       "                .geemap-dark .jupyter-button {\n",
       "                    --jp-layout-color3: #383838;\n",
       "                }\n",
       "\n",
       "                .geemap-colab {\n",
       "                    background-color: var(--colab-primary-surface-color, white);\n",
       "                }\n",
       "\n",
       "                .geemap-colab .jupyter-button {\n",
       "                    --jp-layout-color3: var(--colab-primary-surface-color, white);\n",
       "                }\n",
       "            </style>\n",
       "            "
      ],
      "text/plain": [
       "<IPython.core.display.HTML object>"
      ]
     },
     "metadata": {},
     "output_type": "display_data"
    },
    {
     "name": "stderr",
     "output_type": "stream",
     "text": [
      "100%|██████████| 10/10 [00:03<00:00,  2.56it/s]\n"
     ]
    }
   ],
   "source": [
    "# dowland dirs\n",
    "s2_dir = Path('/home/michael/OneDrive/nr218_files/s2')\n",
    "\n",
    "\n",
    "tasks = []\n",
    "for year in tqdm(range(2016, 2026)):\n",
    "    # filter for June and AOI\n",
    "    start = ee.Date(f'{year}-06-01')\n",
    "    end = ee.Date(f'{year}-06-31')\n",
    "    lil_filter = ee.Filter.And(\n",
    "    ee.Filter.geometry(ee.Geometry.Polygon(verts)),\n",
    "    ee.Filter.date(start, end),\n",
    "    )\n",
    "\n",
    "    # s2 median composite\n",
    "    s2 = (\n",
    "      ee.ImageCollection('COPERNICUS/S2_HARMONIZED')\n",
    "        .filter(lil_filter)\n",
    "        .filter(ee.Filter.lt('CLOUDY_PIXEL_PERCENTAGE', 35))\n",
    "        .map(mask_s2_clouds)\n",
    "        .median()\n",
    "    )\n",
    "    \n",
    "    # download\n",
    "    export_params = {\n",
    "      'image': s2.clip(gee_aoi),\n",
    "      'description': f'dw_{year}_s2',\n",
    "      'folder': 'trinity',\n",
    "      'fileNamePrefix': f'dw_{year}_s2',\n",
    "      'scale': 10,\n",
    "      'region': gee_aoi.geometry(),\n",
    "      'fileFormat': 'GeoTIFF',\n",
    "      'maxPixels': 1e12 \n",
    "    }\n",
    "    task = ee.batch.Export.image.toDrive(**export_params)\n",
    "    task.start()\n",
    "    tasks.append(task)\n"
   ]
  },
  {
   "cell_type": "markdown",
   "id": "29885121",
   "metadata": {},
   "source": [
    "\n",
    "Below is to fix a mistake"
   ]
  },
  {
   "cell_type": "code",
   "execution_count": 17,
   "id": "3a93a001",
   "metadata": {},
   "outputs": [
    {
     "data": {
      "text/html": [
       "\n",
       "            <style>\n",
       "                .geemap-dark {\n",
       "                    --jp-widgets-color: white;\n",
       "                    --jp-widgets-label-color: white;\n",
       "                    --jp-ui-font-color1: white;\n",
       "                    --jp-layout-color2: #454545;\n",
       "                    background-color: #383838;\n",
       "                }\n",
       "\n",
       "                .geemap-dark .jupyter-button {\n",
       "                    --jp-layout-color3: #383838;\n",
       "                }\n",
       "\n",
       "                .geemap-colab {\n",
       "                    background-color: var(--colab-primary-surface-color, white);\n",
       "                }\n",
       "\n",
       "                .geemap-colab .jupyter-button {\n",
       "                    --jp-layout-color3: var(--colab-primary-surface-color, white);\n",
       "                }\n",
       "            </style>\n",
       "            "
      ],
      "text/plain": [
       "<IPython.core.display.HTML object>"
      ]
     },
     "metadata": {},
     "output_type": "display_data"
    }
   ],
   "source": [
    "d = Path('/home/michael/data/trinity_trees/sentinel2')\n",
    "files = d.glob('dw_[0-9][0-9][0-9][0-9]_probability-[0-9]*-[0-9]*.tif')\n",
    "\n",
    "for f in list(files):\n",
    "    f.rename('s2'.join(str(f).split('probability')))"
   ]
  },
  {
   "cell_type": "code",
   "execution_count": null,
   "id": "a985cfa8",
   "metadata": {},
   "outputs": [],
   "source": [
    "ap2 = geemap.Map(basemap='SATELLITE')\n",
    "map2.centerObject(gee_aoi, 9) # Centering on the AOI instead of an undefined 'region'\n",
    "map2.addLayer(gee_aoi, {}, 'AOI')\n",
    "\n",
    "tasks = []\n",
    "for year in tqdm(range(2016, 2026)):\n",
    "    for month in range(12):\n",
    "        # filter for year round and AOI\n",
    "        lil_filter = ee.Filter.And(\n",
    "            ee.Filter.geometry(ee.Geometry.Polygon(verts)),\n",
    "            ee.Filter.calendarRange(year, year, 'year'),\n",
    "            ee.Filter.calendarRange(month, month, 'month')\n",
    "        )"
   ]
  },
  {
   "cell_type": "code",
   "execution_count": null,
   "id": "6e2c4c3c",
   "metadata": {},
   "outputs": [
    {
     "data": {
      "text/html": [
       "\n",
       "            <style>\n",
       "                .geemap-dark {\n",
       "                    --jp-widgets-color: white;\n",
       "                    --jp-widgets-label-color: white;\n",
       "                    --jp-ui-font-color1: white;\n",
       "                    --jp-layout-color2: #454545;\n",
       "                    background-color: #383838;\n",
       "                }\n",
       "\n",
       "                .geemap-dark .jupyter-button {\n",
       "                    --jp-layout-color3: #383838;\n",
       "                }\n",
       "\n",
       "                .geemap-colab {\n",
       "                    background-color: var(--colab-primary-surface-color, white);\n",
       "                }\n",
       "\n",
       "                .geemap-colab .jupyter-button {\n",
       "                    --jp-layout-color3: var(--colab-primary-surface-color, white);\n",
       "                }\n",
       "            </style>\n",
       "            "
      ],
      "text/plain": [
       "<IPython.core.display.HTML object>"
      ]
     },
     "metadata": {},
     "output_type": "display_data"
    },
    {
     "name": "stderr",
     "output_type": "stream",
     "text": [
      "100%|██████████| 10/10 [02:18<00:00, 13.89s/it]\n"
     ]
    },
    {
     "data": {
      "application/vnd.jupyter.widget-view+json": {
       "model_id": "05f7e283a54c4c02bdb36f43edc444a7",
       "version_major": 2,
       "version_minor": 0
      },
      "text/plain": [
       "Map(center=[40.89654200357109, -122.9134284979662], controls=(WidgetControl(options=['position', 'transparent_…"
      ]
     },
     "metadata": {},
     "output_type": "display_data"
    }
   ],
   "source": [
    "\n",
    "map2 = geemap.Map(basemap='SATELLITE')\n",
    "map2.centerObject(gee_aoi, 9) # Centering on the AOI instead of an undefined 'region'\n",
    "map2.addLayer(gee_aoi, {}, 'AOI')\n",
    "\n",
    "\n",
    "tasks = []\n",
    "for year in tqdm(range(2016, 2026)):\n",
    "  \n",
    "    # filter for year, month and AOI\n",
    "    start = ee.Date(f'{year}-01-01')\n",
    "    end = ee.Date(f'{year}-12-31')\n",
    "    lil_filter = ee.Filter.And(\n",
    "    ee.Filter.geometry(ee.Geometry.Polygon(verts)),\n",
    "    ee.Filter.calendarRange(year, year, 'year'),\n",
    "    ee.Filter.calendarRange(start, end, 'month')\n",
    "    )\n",
    "\n",
    "    # s2 median composite\n",
    "    s2 = (\n",
    "      ee.ImageCollection('COPERNICUS/S2_HARMONIZED')\n",
    "        .filter(lil_filter)\n",
    "        .filter(ee.Filter.lt('CLOUDY_PIXEL_PERCENTAGE', 20))\n",
    "        .map(mask_s2_clouds)\n",
    "        .median()\n",
    "    )\n",
    "\n",
    "    \n",
    "    ((NIR - Red) / (NIR + Red + L)) * (1 + L)\n",
    "\n",
    "    # create  mode composite based on highest probable lulc class during of summer months\n",
    "    classification = dw.select('label');\n",
    "    dwComposite = classification.reduce(ee.Reducer.mode())\n",
    "    dw_rgb = dwComposite.visualize(min=0, max=8, palette=dwVisParams['palette']).divide(255)\n",
    "\n",
    "    # get the most likely class probability (as mean across composite).\n",
    "    top1_prob = dw.select(\n",
    "      probabilityBands\n",
    "      ).reduce(\n",
    "        ee.Reducer.mean()\n",
    "        ).reduce(ee.Reducer.max())\n",
    "    \n",
    "    # make image for display\n",
    "    alpha = top1_prob.multiply(0.7).add(0.3)\n",
    "    dw_rgba = dw_rgb.addBands(alpha.multiply(255))\n",
    "\n",
    "    # download\n",
    "    for thing, f'dw_{year}_s2' in [\n",
    "      \n",
    "      (s2, f'dw_{year}_s2')\n",
    "    ]:\n",
    "      export_params = {\n",
    "      'image': s2.clip(gee_aoi),\n",
    "      'description': f'dw_{year}_s2',\n",
    "      'folder': 'trinity',\n",
    "      'fileNamePrefix': f'dw_{year}_s2',\n",
    "      'scale': 10,\n",
    "      'region': gee_aoi.geometry(),\n",
    "      'fileFormat': 'GeoTIFF',\n",
    "      'maxPixels': 1e12 \n",
    "      }\n",
    "      task = ee.batch.Export.image.toDrive(**export_params)\n",
    "      task.start()\n",
    "      tasks.append(task)\n",
    "\n",
    "    # clip the composite and add it to the map.\n",
    "    map.addLayer(dw_rgba.clip(gee_aoi), {}, f'{year} Classified Composite ')\n",
    "\n",
    "\n",
    "map.add_legend(keys=probabilityBands, colors=dwVisParams['palette'], position='bottomright')\n",
    "\n",
    "map"
   ]
  }
 ],
 "metadata": {
  "kernelspec": {
   "display_name": "ee",
   "language": "python",
   "name": "python3"
  },
  "language_info": {
   "codemirror_mode": {
    "name": "ipython",
    "version": 3
   },
   "file_extension": ".py",
   "mimetype": "text/x-python",
   "name": "python",
   "nbconvert_exporter": "python",
   "pygments_lexer": "ipython3",
   "version": "3.13.5"
  }
 },
 "nbformat": 4,
 "nbformat_minor": 5
}
